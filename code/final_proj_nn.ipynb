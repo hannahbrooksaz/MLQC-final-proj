{
 "cells": [
  {
   "cell_type": "code",
   "execution_count": 1,
   "metadata": {},
   "outputs": [
    {
     "name": "stderr",
     "output_type": "stream",
     "text": [
      "Using TensorFlow backend.\n"
     ]
    }
   ],
   "source": [
    "import os\n",
    "import hickle as hkl\n",
    "import numpy as np\n",
    "import pybedtools\n",
    "from pkg_resources import resource_filename\n",
    "from torch import nn\n",
    "import torch.nn.functional as F\n",
    "import torch\n",
    "from torch.utils.data import DataLoader, Dataset\n",
    "from janggu.data import Bioseq, Cover, ReduceDim, SqueezeDim, Transpose\n",
    "import torch.optim as optim\n",
    "from tqdm import tqdm\n",
    "from sklearn.linear_model import LogisticRegression\n",
    "from sklearn.svm import SVC\n",
    "from sklearn.ensemble import RandomForestClassifier\n",
    "from sklearn.metrics import roc_auc_score\n",
    "\n",
    "from IPython.display import Image"
   ]
  },
  {
   "cell_type": "code",
   "execution_count": 2,
   "metadata": {},
   "outputs": [],
   "source": [
    "os.environ['JANGGU_OUTPUT'] = '/home/wangccy/janggu_out' "
   ]
  },
  {
   "cell_type": "code",
   "execution_count": 3,
   "metadata": {},
   "outputs": [],
   "source": [
    "order = 3"
   ]
  },
  {
   "cell_type": "code",
   "execution_count": null,
   "metadata": {},
   "outputs": [],
   "source": [
    "!shuf -n 1 /home/wangccy/anaconda3/envs/final-proj/lib/python3.9/site-packages/janggu/roi_train.bed > /home/wangccy/anaconda3/envs/final-proj/lib/python3.9/site-packages/janggu/roi_train_rand1.bed\n",
    "#set the random number of gene taking for training, you can change 1 to any number change file name in the output"
   ]
  },
  {
   "cell_type": "code",
   "execution_count": null,
   "metadata": {},
   "outputs": [],
   "source": [
    "!shuf -n 1 /home/wangccy/anaconda3/envs/final-proj/lib/python3.9/site-packages/janggu/roi_test.bed > /home/wangccy/anaconda3/envs/final-proj/lib/python3.9/site-packages/janggu/roi_test_rand1.bed \n",
    "#set the random number of gene taking for testing, you can change 1 to any number change file name in the output"
   ]
  },
  {
   "cell_type": "code",
   "execution_count": 4,
   "metadata": {},
   "outputs": [],
   "source": [
    "REFGENOME = resource_filename('janggu', 'hg19.fa')\n",
    "\n",
    "#ROI_TRAIN_FILE = resource_filename('janggu', 'roi_train.bed')\n",
    "\n",
    "ROI_TRAIN_FILE = resource_filename('janggu', 'roi_train_rand1.bed') # change file name here accordingly\n",
    "\n",
    "\n",
    "ROI_TEST_FILE = resource_filename('janggu', 'roi_test_rand1.bed') # change file name here accordingly\n",
    "\n",
    "PEAK_FILE = '/home/wangccy/sites_all.bed'\n"
   ]
  },
  {
   "cell_type": "code",
   "execution_count": 5,
   "metadata": {},
   "outputs": [],
   "source": [
    "#Prepare Data\n",
    "NN_DNA_train = Bioseq.create_from_refgenome('dna', refgenome=REFGENOME,\n",
    "                                                       roi=ROI_TRAIN_FILE,\n",
    "                                                       binsize=50,\n",
    "                                                       order=3,\n",
    "                                                       flank=150,\n",
    "                                                       cache=False,\n",
    "                                                       verbose=True)\n",
    "NN_Labels_train = ReduceDim(Cover.create_from_bed('sites_all', roi=ROI_TRAIN_FILE,\n",
    "                                                   bedfiles=PEAK_FILE,\n",
    "                                                   binsize=50,\n",
    "                                                   resolution=1,\n",
    "                                                   flank=150,\n",
    "                                                   mode='name_category',\n",
    "                                                   conditions=['start']))\n",
    "\n",
    "NN_DNA_test = Bioseq.create_from_refgenome('dna', refgenome=REFGENOME,\n",
    "                                                       roi=ROI_TEST_FILE,\n",
    "                                                       binsize=50,\n",
    "                                                       order=3,\n",
    "                                                       flank=150,\n",
    "                                                       cache=False,\n",
    "                                                       verbose=True)\n",
    "NN_Labels_test = ReduceDim(Cover.create_from_bed('sites_all', roi=ROI_TEST_FILE,\n",
    "                                                   bedfiles=PEAK_FILE,\n",
    "                                                   binsize=50,\n",
    "                                                   resolution=1,\n",
    "                                                   flank=150,\n",
    "                                                   mode='name_category',\n",
    "                                                   conditions=['start']))"
   ]
  },
  {
   "cell_type": "code",
   "execution_count": 6,
   "metadata": {},
   "outputs": [
    {
     "name": "stdout",
     "output_type": "stream",
     "text": [
      "DNAConvNet(\n",
      "  (conv1): Conv1d(64, 30, kernel_size=(21,), stride=(1,))\n",
      "  (dense): Linear(in_features=30, out_features=1, bias=True)\n",
      "  (sigmoid): Sigmoid()\n",
      ")\n"
     ]
    }
   ],
   "source": [
    "#Define DNAConvNet model\n",
    "class DNAConvNet(nn.Module):\n",
    "    def __init__(self, order=1):\n",
    "        super(DNAConvNet, self).__init__()\n",
    "        self.conv1 = nn.Conv1d(pow(4, order), 30, 21)\n",
    "        self.dense = nn.Linear(30, 1)\n",
    "        self.sigmoid = nn.Sigmoid()\n",
    "        \n",
    "    def forward(self, x):\n",
    "        x = F.relu(self.conv1(x))\n",
    "        \n",
    "        # emulates global_max_pooling\n",
    "        x = F.max_pool1d(x, x.size()[-1]).flatten(1, -1)\n",
    "        x = self.dense(x)\n",
    "        x = self.sigmoid(x)\n",
    "        return x\n",
    "    \n",
    "net = DNAConvNet(3)\n",
    "print(net)"
   ]
  },
  {
   "cell_type": "code",
   "execution_count": 7,
   "metadata": {},
   "outputs": [],
   "source": [
    "# Loading the data\n",
    "class ToTensor(torch.utils.data.Dataset):\n",
    "    def __init__(self, data, dtype='float32'):\n",
    "        self.data = data\n",
    "        self.dtype = dtype\n",
    "        \n",
    "    def __len__(self):\n",
    "        return len(self.data)\n",
    "    \n",
    "    def __repr__(self):\n",
    "        return \"ToTensor({})\".format(str(self.data))\n",
    "    def __getitem__(self, idx):\n",
    "        if torch.is_tensor(idx):\n",
    "            idx = idx.tolist()\n",
    "        data = self.data[idx].astype(self.dtype)\n",
    "        \n",
    "        return torch.from_numpy(data)"
   ]
  },
  {
   "cell_type": "code",
   "execution_count": 8,
   "metadata": {},
   "outputs": [
    {
     "data": {
      "text/plain": [
       "ToTensor(SqueezeDim(ReduceDim(Bioseq(\"dna\"))))"
      ]
     },
     "execution_count": 8,
     "metadata": {},
     "output_type": "execute_result"
    }
   ],
   "source": [
    "DNA_ = ToTensor(Transpose(ReduceDim(NN_DNA_train, axis=2), axis=(0,2,1)), dtype='float32')\n",
    "DNA_"
   ]
  },
  {
   "cell_type": "code",
   "execution_count": 9,
   "metadata": {},
   "outputs": [],
   "source": [
    "class InOutTuple(Dataset):\n",
    "    def __init__(self, inputs, labels, batch_size=32, shuffle=True):\n",
    "        self.inputs = inputs\n",
    "        self.labels = labels\n",
    "        self.batch_size = batch_size\n",
    "        self.shuffle = shuffle\n",
    "        self.ridx = np.random.permutation(len(inputs))\n",
    "        \n",
    "    def __len__(self):\n",
    "        return int(np.ceil(len(self.inputs) / self.batch_size))\n",
    "    \n",
    "    def __getitem__(self, idx):\n",
    "        \n",
    "        if torch.is_tensor(idx):\n",
    "            idx = idx.tolist()\n",
    "        \n",
    "        ridx = self.ridx[self.batch_size*idx:(self.batch_size*(idx+1))].tolist()\n",
    "        # enforce type compatibility\n",
    "        return self.inputs[ridx], self.labels[ridx]"
   ]
  },
  {
   "cell_type": "code",
   "execution_count": 10,
   "metadata": {},
   "outputs": [
    {
     "data": {
      "text/plain": [
       "1626"
      ]
     },
     "execution_count": 10,
     "metadata": {},
     "output_type": "execute_result"
    }
   ],
   "source": [
    "IODATA = InOutTuple(DNA_, ToTensor(NN_Labels_train))\n",
    "len(IODATA)"
   ]
  },
  {
   "cell_type": "code",
   "execution_count": 11,
   "metadata": {},
   "outputs": [],
   "source": [
    "dataloader = DataLoader(IODATA, batch_size=1,\n",
    "                        shuffle=False, num_workers=2)"
   ]
  },
  {
   "cell_type": "code",
   "execution_count": 12,
   "metadata": {},
   "outputs": [
    {
     "name": "stdout",
     "output_type": "stream",
     "text": [
      "cuda\n"
     ]
    },
    {
     "name": "stderr",
     "output_type": "stream",
     "text": [
      "100%|█████████████████████████████████████████████████████████████████████████████████████████████████████████████| 100/100 [13:22<00:00,  8.03s/it]"
     ]
    },
    {
     "name": "stdout",
     "output_type": "stream",
     "text": [
      "########################################\n",
      "loss: 0.0\n",
      "########################################\n"
     ]
    },
    {
     "name": "stderr",
     "output_type": "stream",
     "text": [
      "\n"
     ]
    }
   ],
   "source": [
    "#Training\n",
    "criterion = nn.BCELoss()\n",
    "optimizer = optim.Adadelta(net.parameters())\n",
    "device = 'cuda' if torch.cuda.is_available() else 'cpu'\n",
    "print(device)\n",
    "\n",
    "net = net.to(device)\n",
    "\n",
    "final_loss = 0.\n",
    "for epoch in tqdm(range(100)):\n",
    "    for i, d in enumerate(dataloader, 0):\n",
    "        inputs, labels = d\n",
    "        # when using dataloaders a dummy dimension\n",
    "        # is introduced which we don't need.\n",
    "        # with view we eliminate it.\n",
    "        inputs = inputs.view(inputs.shape[1:])\n",
    "        labels = labels.view(labels.shape[1:])\n",
    "        inputs = inputs.to(device)\n",
    "        labels = labels.to(device)\n",
    "        \n",
    "        optimizer.zero_grad()\n",
    "        \n",
    "        outputs = net(inputs)\n",
    "        loss = criterion(outputs, labels)\n",
    "        loss.backward()\n",
    "        \n",
    "        optimizer.step()\n",
    "        final_loss = loss.item()\n",
    "\n",
    "print('#' * 40)\n",
    "print('loss: {}'.format(final_loss))\n",
    "print('#' * 40)"
   ]
  },
  {
   "cell_type": "code",
   "execution_count": 13,
   "metadata": {},
   "outputs": [
    {
     "data": {
      "text/plain": [
       "ToTensor(SqueezeDim(ReduceDim(Bioseq(\"dna\"))))"
      ]
     },
     "execution_count": 13,
     "metadata": {},
     "output_type": "execute_result"
    }
   ],
   "source": [
    "# Testing the model\n",
    "\n",
    "DNA_TEST_ = ToTensor(Transpose(ReduceDim(NN_DNA_test, axis=2), axis=(0,2,1)), dtype='float32')\n",
    "\n",
    "DNA_TEST_"
   ]
  },
  {
   "cell_type": "code",
   "execution_count": 14,
   "metadata": {},
   "outputs": [
    {
     "data": {
      "text/plain": [
       "DNAConvNet(\n",
       "  (conv1): Conv1d(64, 30, kernel_size=(21,), stride=(1,))\n",
       "  (dense): Linear(in_features=30, out_features=1, bias=True)\n",
       "  (sigmoid): Sigmoid()\n",
       ")"
      ]
     },
     "execution_count": 14,
     "metadata": {},
     "output_type": "execute_result"
    }
   ],
   "source": [
    "net.to('cpu')"
   ]
  },
  {
   "cell_type": "code",
   "execution_count": 15,
   "metadata": {},
   "outputs": [],
   "source": [
    "pred = net(DNA_TEST_[:]).detach().numpy()"
   ]
  },
  {
   "cell_type": "code",
   "execution_count": 16,
   "metadata": {},
   "outputs": [
    {
     "name": "stdout",
     "output_type": "stream",
     "text": [
      "AUC: 0.7040475230129783\n"
     ]
    }
   ],
   "source": [
    "print(\"AUC:\", roc_auc_score(NN_Labels_test[:], pred))"
   ]
  },
  {
   "cell_type": "code",
   "execution_count": null,
   "metadata": {},
   "outputs": [],
   "source": []
  }
 ],
 "metadata": {
  "kernelspec": {
   "display_name": "final-proj",
   "language": "python",
   "name": "final-proj"
  },
  "language_info": {
   "codemirror_mode": {
    "name": "ipython",
    "version": 3
   },
   "file_extension": ".py",
   "mimetype": "text/x-python",
   "name": "python",
   "nbconvert_exporter": "python",
   "pygments_lexer": "ipython3",
   "version": "3.9.7"
  }
 },
 "nbformat": 4,
 "nbformat_minor": 4
}
