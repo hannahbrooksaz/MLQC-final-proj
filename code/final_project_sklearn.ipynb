{
 "cells": [
  {
   "cell_type": "code",
   "execution_count": 1,
   "metadata": {},
   "outputs": [
    {
     "name": "stderr",
     "output_type": "stream",
     "text": [
      "Using TensorFlow backend.\n"
     ]
    }
   ],
   "source": [
    "import os\n",
    "import hickle as hkl\n",
    "import numpy as np\n",
    "import pybedtools\n",
    "from pkg_resources import resource_filename\n",
    "from torch import nn\n",
    "import torch.nn.functional as F\n",
    "import torch\n",
    "from torch.utils.data import DataLoader, Dataset\n",
    "from janggu.data import Bioseq, Cover, ReduceDim, SqueezeDim, Transpose\n",
    "import torch.optim as optim\n",
    "from tqdm import tqdm\n",
    "from sklearn.linear_model import LogisticRegression\n",
    "from sklearn.svm import SVC\n",
    "from sklearn.ensemble import RandomForestClassifier\n",
    "from sklearn.metrics import roc_auc_score\n",
    "\n",
    "from IPython.display import Image"
   ]
  },
  {
   "cell_type": "code",
   "execution_count": 2,
   "metadata": {},
   "outputs": [],
   "source": [
    "os.environ['JANGGU_OUTPUT'] = '/home/wangccy/janggu_out' "
   ]
  },
  {
   "cell_type": "code",
   "execution_count": 3,
   "metadata": {},
   "outputs": [],
   "source": [
    "order = 3"
   ]
  },
  {
   "cell_type": "code",
   "execution_count": 4,
   "metadata": {},
   "outputs": [],
   "source": [
    "!shuf -n 50 /home/wangccy/anaconda3/envs/final-proj/lib/python3.9/site-packages/janggu/roi_train.bed > /home/wangccy/anaconda3/envs/final-proj/lib/python3.9/site-packages/janggu/roi_train_rand50.bed\n",
    "#Set the random number of gene segments taking for training, you can change 1 to any number and change file name in the output"
   ]
  },
  {
   "cell_type": "code",
   "execution_count": 5,
   "metadata": {},
   "outputs": [],
   "source": [
    "!shuf -n 10 /home/wangccy/anaconda3/envs/final-proj/lib/python3.9/site-packages/janggu/roi_test.bed > /home/wangccy/anaconda3/envs/final-proj/lib/python3.9/site-packages/janggu/roi_test_rand10.bed \n",
    "#Set the random number of gene segments taking for testing, you can change 1 to any number and change file name in the output"
   ]
  },
  {
   "cell_type": "code",
   "execution_count": 4,
   "metadata": {},
   "outputs": [],
   "source": [
    "REFGENOME = resource_filename('janggu', 'hg19.fa')\n",
    "\n",
    "\n",
    "ROI_TRAIN_FILE = resource_filename('janggu', 'roi_train_rand1.bed') # change file name here accordingly\n",
    "\n",
    "\n",
    "ROI_TEST_FILE = resource_filename('janggu', 'roi_test_rand1.bed') # change file name here accordingly\n",
    "\n",
    "PEAK_FILE = '/home/wangccy/sites_all.bed'\n"
   ]
  },
  {
   "cell_type": "code",
   "execution_count": 7,
   "metadata": {},
   "outputs": [],
   "source": [
    "#Prepare data for Sklearn Training\n",
    "DNA = SqueezeDim(ReduceDim(Bioseq.create_from_refgenome('dna', refgenome=REFGENOME,\n",
    "                                                       roi=ROI_TRAIN_FILE,\n",
    "                                                       binsize=50,\n",
    "                                                       order=3,\n",
    "                                                       flank=150,\n",
    "                                                       cache=False,\n",
    "                                                       verbose=True)))\n",
    "\n",
    "DNA_test = SqueezeDim(ReduceDim(Bioseq.create_from_refgenome('dna', refgenome=REFGENOME,\n",
    "                                                       roi=ROI_TEST_FILE,\n",
    "                                                       binsize=50,\n",
    "                                                       order=3,\n",
    "                                                       flank=150,\n",
    "                                                       cache=False,\n",
    "                                                       verbose=True)))"
   ]
  },
  {
   "cell_type": "code",
   "execution_count": 8,
   "metadata": {},
   "outputs": [],
   "source": [
    "#Prepare data for Sklearn Testing\n",
    "LABELS = SqueezeDim(ReduceDim(Cover.create_from_bed('sites_all', roi=ROI_TRAIN_FILE,\n",
    "                                                   bedfiles=PEAK_FILE,\n",
    "                                                   binsize=50,\n",
    "                                                   resolution=1,\n",
    "                                                   flank=150,\n",
    "                                                   mode='name_category',\n",
    "                                                   conditions=['start'])))\n",
    "\n",
    "LABELS_test = SqueezeDim(ReduceDim(Cover.create_from_bed('sites_all', roi=ROI_TEST_FILE,\n",
    "                                                   bedfiles=PEAK_FILE,\n",
    "                                                   binsize=50,\n",
    "                                                   resolution=1,\n",
    "                                                   flank=150,\n",
    "                                                   mode='name_category',\n",
    "                                                   conditions=['start'])))"
   ]
  },
  {
   "cell_type": "code",
   "execution_count": 9,
   "metadata": {},
   "outputs": [],
   "source": [
    "#Logistic Regression Model\n",
    "logreg = LogisticRegression(max_iter=1e6)\n",
    "logreg.fit(DNA,LABELS)\n",
    "logregpred = logreg.predict_proba(DNA_test)[:,1]"
   ]
  },
  {
   "cell_type": "code",
   "execution_count": 10,
   "metadata": {},
   "outputs": [],
   "source": [
    "#Random Forest Model\n",
    "rf = RandomForestClassifier()\n",
    "rf.fit(DNA, LABELS)\n",
    "rfpred = rf.predict_proba(DNA_test)[:,1]"
   ]
  },
  {
   "cell_type": "code",
   "execution_count": 11,
   "metadata": {},
   "outputs": [
    {
     "data": {
      "text/plain": [
       "0.7771885287604101"
      ]
     },
     "execution_count": 11,
     "metadata": {},
     "output_type": "execute_result"
    }
   ],
   "source": [
    "#Testing for Logistic Regression Model\n",
    "roc_auc_score(LABELS_test[:], logregpred)"
   ]
  },
  {
   "cell_type": "code",
   "execution_count": 12,
   "metadata": {},
   "outputs": [
    {
     "data": {
      "text/plain": [
       "0.7629927821441724"
      ]
     },
     "execution_count": 12,
     "metadata": {},
     "output_type": "execute_result"
    }
   ],
   "source": [
    "#Testing for Random Forest Model\n",
    "roc_auc_score(LABELS_test[:], rfpred)"
   ]
  }
 ],
 "metadata": {
  "kernelspec": {
   "display_name": "final-proj",
   "language": "python",
   "name": "final-proj"
  },
  "language_info": {
   "codemirror_mode": {
    "name": "ipython",
    "version": 3
   },
   "file_extension": ".py",
   "mimetype": "text/x-python",
   "name": "python",
   "nbconvert_exporter": "python",
   "pygments_lexer": "ipython3",
   "version": "3.9.7"
  }
 },
 "nbformat": 4,
 "nbformat_minor": 4
}
