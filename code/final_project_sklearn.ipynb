{
 "cells": [
  {
   "cell_type": "code",
   "execution_count": 1,
   "metadata": {},
   "outputs": [
    {
     "name": "stderr",
     "output_type": "stream",
     "text": [
      "Using TensorFlow backend.\n"
     ]
    }
   ],
   "source": [
    "import os\n",
    "import hickle as hkl\n",
    "import numpy as np\n",
    "import pybedtools\n",
    "\n",
    "from pkg_resources import resource_filename\n",
    "\n",
    "from janggu.data import Bioseq, Cover, ReduceDim, SqueezeDim\n",
    "\n",
    "from sklearn.linear_model import LogisticRegression\n",
    "from sklearn.svm import SVC\n",
    "from sklearn.ensemble import RandomForestClassifier\n",
    "from sklearn.metrics import roc_auc_score\n",
    "\n",
    "from IPython.display import Image"
   ]
  },
  {
   "cell_type": "code",
   "execution_count": 2,
   "metadata": {},
   "outputs": [],
   "source": [
    "os.environ['JANGGU_OUTPUT'] = '/home/wangccy/janggu_out' "
   ]
  },
  {
   "cell_type": "code",
   "execution_count": 3,
   "metadata": {},
   "outputs": [],
   "source": [
    "order = 5"
   ]
  },
  {
   "cell_type": "code",
   "execution_count": 32,
   "metadata": {},
   "outputs": [],
   "source": [
    "!shuf -n 1 /home/wangccy/anaconda3/envs/final-proj/lib/python3.9/site-packages/janggu/roi_train.bed > /home/wangccy/anaconda3/envs/final-proj/lib/python3.9/site-packages/janggu/roi_train_rand1.bed\n",
    "#set the random number of gene taking for training, you can change 1 to any number change file name in the output"
   ]
  },
  {
   "cell_type": "code",
   "execution_count": 33,
   "metadata": {},
   "outputs": [],
   "source": [
    "!shuf -n 1 /home/wangccy/anaconda3/envs/final-proj/lib/python3.9/site-packages/janggu/roi_test.bed > /home/wangccy/anaconda3/envs/final-proj/lib/python3.9/site-packages/janggu/roi_test_rand1.bed \n",
    "#set the random number of gene taking for testing, you can change 1 to any number change file name in the output"
   ]
  },
  {
   "cell_type": "code",
   "execution_count": 34,
   "metadata": {},
   "outputs": [],
   "source": [
    "REFGENOME = resource_filename('janggu', 'hg19.fa')\n",
    "\n",
    "#ROI_TRAIN_FILE = resource_filename('janggu', 'roi_train.bed')\n",
    "\n",
    "ROI_TRAIN_FILE = resource_filename('janggu', 'roi_train_rand1.bed') # change file name here accordingly\n",
    "\n",
    "\n",
    "ROI_TEST_FILE = resource_filename('janggu', 'roi_test_rand1.bed') # change file name here accordingly\n",
    "\n",
    "PEAK_FILE = '/home/wangccy/sites_all.bed'\n"
   ]
  },
  {
   "cell_type": "code",
   "execution_count": 35,
   "metadata": {},
   "outputs": [],
   "source": [
    "DNA = SqueezeDim(ReduceDim(Bioseq.create_from_refgenome('dna', refgenome=REFGENOME,\n",
    "                                                       roi=ROI_TRAIN_FILE,\n",
    "                                                       binsize=50,\n",
    "                                                       order=3,\n",
    "                                                       flank=50,\n",
    "                                                       cache=False,\n",
    "                                                       verbose=True)))\n",
    "\n",
    "DNA_test = SqueezeDim(ReduceDim(Bioseq.create_from_refgenome('dna', refgenome=REFGENOME,\n",
    "                                                       roi=ROI_TEST_FILE,\n",
    "                                                       binsize=50,\n",
    "                                                       order=3,\n",
    "                                                       flank=50,\n",
    "                                                       cache=False,\n",
    "                                                       verbose=True)))"
   ]
  },
  {
   "cell_type": "code",
   "execution_count": 38,
   "metadata": {},
   "outputs": [
    {
     "data": {
      "text/plain": [
       "(387, 64)"
      ]
     },
     "execution_count": 38,
     "metadata": {},
     "output_type": "execute_result"
    }
   ],
   "source": [
    "DNA.shape"
   ]
  },
  {
   "cell_type": "code",
   "execution_count": 14,
   "metadata": {},
   "outputs": [],
   "source": [
    "hkl.dump(DNA, 'DNA_Train.hkl', mode='w') # save into hkl then we don't need to rerun previous step\n",
    "hkl.dump(DNA_test, 'DNA_Test.hkl', mode='w')"
   ]
  },
  {
   "cell_type": "code",
   "execution_count": 15,
   "metadata": {},
   "outputs": [],
   "source": [
    "DNA = hkl.load('DNA_Train.hkl')\n",
    "DNA_test = hkl.load('DNA_Test.hkl')"
   ]
  },
  {
   "cell_type": "code",
   "execution_count": 16,
   "metadata": {},
   "outputs": [],
   "source": [
    "LABELS = SqueezeDim(ReduceDim(Cover.create_from_bed('sites_all', roi=ROI_TRAIN_FILE,\n",
    "                                                   bedfiles=PEAK_FILE,\n",
    "                                                   binsize=50,\n",
    "                                                   resolution=1,\n",
    "                                                   flank=50,\n",
    "                                                   mode='name_category',\n",
    "                                                   conditions=['start'])))\n",
    "\n",
    "LABELS_test = SqueezeDim(ReduceDim(Cover.create_from_bed('sites_all', roi=ROI_TEST_FILE,\n",
    "                                                   bedfiles=PEAK_FILE,\n",
    "                                                   binsize=50,\n",
    "                                                   resolution=1,\n",
    "                                                   flank=50,\n",
    "                                                   mode='name_category',\n",
    "                                                   conditions=['start'])))"
   ]
  },
  {
   "cell_type": "code",
   "execution_count": 17,
   "metadata": {},
   "outputs": [
    {
     "data": {
      "text/plain": [
       "(4281,)"
      ]
     },
     "execution_count": 17,
     "metadata": {},
     "output_type": "execute_result"
    }
   ],
   "source": [
    "LABELS_test.shape"
   ]
  },
  {
   "cell_type": "code",
   "execution_count": 22,
   "metadata": {},
   "outputs": [],
   "source": [
    "logreg = LogisticRegression(max_iter=1e6)\n",
    "logreg.fit(DNA,LABELS)\n",
    "logregpred = logreg.predict_proba(DNA_test)[:,1]"
   ]
  },
  {
   "cell_type": "code",
   "execution_count": 23,
   "metadata": {},
   "outputs": [],
   "source": [
    "svc = SVC(probability=True)\n",
    "svc.fit(DNA, LABELS)\n",
    "svcpred = svc.predict_proba(DNA_test)[:,1]"
   ]
  },
  {
   "cell_type": "code",
   "execution_count": 24,
   "metadata": {},
   "outputs": [],
   "source": [
    "rf = RandomForestClassifier()\n",
    "rf.fit(DNA, LABELS)\n",
    "rfpred = rf.predict_proba(DNA_test)[:,1]"
   ]
  },
  {
   "cell_type": "code",
   "execution_count": 25,
   "metadata": {},
   "outputs": [
    {
     "data": {
      "text/plain": [
       "0.5732404565529494"
      ]
     },
     "execution_count": 25,
     "metadata": {},
     "output_type": "execute_result"
    }
   ],
   "source": [
    "roc_auc_score(LABELS_test[:], logregpred)"
   ]
  },
  {
   "cell_type": "code",
   "execution_count": 26,
   "metadata": {},
   "outputs": [
    {
     "data": {
      "text/plain": [
       "0.5616434895734657"
      ]
     },
     "execution_count": 26,
     "metadata": {},
     "output_type": "execute_result"
    }
   ],
   "source": [
    "roc_auc_score(LABELS_test[:], svcpred)"
   ]
  },
  {
   "cell_type": "code",
   "execution_count": 27,
   "metadata": {},
   "outputs": [
    {
     "data": {
      "text/plain": [
       "0.5445932746432918"
      ]
     },
     "execution_count": 27,
     "metadata": {},
     "output_type": "execute_result"
    }
   ],
   "source": [
    "roc_auc_score(LABELS_test[:], rfpred)"
   ]
  },
  {
   "cell_type": "code",
   "execution_count": null,
   "metadata": {},
   "outputs": [],
   "source": []
  }
 ],
 "metadata": {
  "kernelspec": {
   "display_name": "final-proj",
   "language": "python",
   "name": "final-proj"
  },
  "language_info": {
   "codemirror_mode": {
    "name": "ipython",
    "version": 3
   },
   "file_extension": ".py",
   "mimetype": "text/x-python",
   "name": "python",
   "nbconvert_exporter": "python",
   "pygments_lexer": "ipython3",
   "version": "3.9.7"
  }
 },
 "nbformat": 4,
 "nbformat_minor": 4
}
